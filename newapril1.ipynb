{
 "cells": [
  {
   "cell_type": "markdown",
   "metadata": {},
   "source": [
    "Step 1: Preparing Your Dataset\n",
    "First, let's load and prepare your dataset. We will split it into training and validation sets."
   ]
  },
  {
   "cell_type": "code",
   "execution_count": null,
   "metadata": {},
   "outputs": [],
   "source": [
    "import pandas as pd\n",
    "\n",
    "# Load the dataset\n",
    "data_path = \"path_to_your_dataset/Newdataset.xlsx\"\n",
    "data = pd.read_excel(data_path)\n",
    "\n",
    "# Display the first few rows\n",
    "print(data.head())\n"
   ]
  }
 ],
 "metadata": {
  "language_info": {
   "name": "python"
  }
 },
 "nbformat": 4,
 "nbformat_minor": 2
}
