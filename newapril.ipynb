{
 "cells": [
  {
   "cell_type": "markdown",
   "metadata": {},
   "source": []
  },
  {
   "cell_type": "markdown",
   "metadata": {},
   "source": [
    "Step 1: Preprocess the Data"
   ]
  },
  {
   "cell_type": "code",
   "execution_count": 8,
   "metadata": {},
   "outputs": [
    {
     "name": "stdout",
     "output_type": "stream",
     "text": [
      "                                           Utterance  \\\n",
      "0  Alexa open airport info and tell me the delay ...   \n",
      "1                               Alexa, open deadpool   \n",
      "2  Alexa, how do I plant a garden? - \"To plant a ...   \n",
      "3             Alexa, play original songs from jw.org   \n",
      "4                Alexa, Ask Verizon about my rewards   \n",
      "\n",
      "                                            Response       Source  \\\n",
      "0  Sorry, I couldn't find your current location i...  Alexa Skill   \n",
      "1                               Here’s what I found.  Alexa Skill   \n",
      "2  \"To plant a garden, choose a location, prepare...     Built-in   \n",
      "3                                                NaN  Alexa Skill   \n",
      "4                              <Audio only response>  Alexa Skill   \n",
      "\n",
      "              Department    Skill Name  Labels  \n",
      "0                  Local  Airport Info       1  \n",
      "1            Movies & TV      Deadpool       0  \n",
      "2                    NaN           NaN       1  \n",
      "3  Education & Reference       JW.ORG®       0  \n",
      "4          Home Services       Verizon       1  \n"
     ]
    }
   ],
   "source": [
    "import pandas as pd\n",
    "\n",
    "# Assuming the file path to the dataset you uploaded\n",
    "file_path = '/Users/chamodyaavishka/Desktop/NEW/NEW1/Datanew.xlsx'\n",
    "data = pd.read_excel(file_path)\n",
    "\n",
    "# Display the first few rows to understand its structure\n",
    "print(data.head())\n"
   ]
  },
  {
   "cell_type": "code",
   "execution_count": 9,
   "metadata": {},
   "outputs": [],
   "source": [
    "from transformers import BertTokenizer\n",
    "\n",
    "# Load the BERT tokenizer\n",
    "tokenizer = BertTokenizer.from_pretrained('bert-base-uncased')\n",
    "\n",
    "# Tokenize and encode sequences in the dataset\n",
    "encoded_data = tokenizer(data['Utterance'].tolist(), \n",
    "                         padding=True, \n",
    "                         truncation=True, \n",
    "                         return_tensors='pt', \n",
    "                         max_length=128)  # You can adjust `max_length` based on your dataset\n"
   ]
  },
  {
   "cell_type": "code",
   "execution_count": 10,
   "metadata": {},
   "outputs": [
    {
     "name": "stderr",
     "output_type": "stream",
     "text": [
      "/var/folders/58/g_5xrc8j1zdckrn739h9xr2m0000gn/T/ipykernel_18446/3596481432.py:12: FutureWarning: A value is trying to be set on a copy of a DataFrame or Series through chained assignment using an inplace method.\n",
      "The behavior will change in pandas 3.0. This inplace method will never work because the intermediate object on which we are setting values always behaves as a copy.\n",
      "\n",
      "For example, when doing 'df[col].method(value, inplace=True)', try using 'df.method({col: value}, inplace=True)' or df[col] = df[col].method(value) instead, to perform the operation inplace on the original object.\n",
      "\n",
      "\n",
      "  data['Source'].fillna('Unknown', inplace=True)\n",
      "/var/folders/58/g_5xrc8j1zdckrn739h9xr2m0000gn/T/ipykernel_18446/3596481432.py:13: FutureWarning: A value is trying to be set on a copy of a DataFrame or Series through chained assignment using an inplace method.\n",
      "The behavior will change in pandas 3.0. This inplace method will never work because the intermediate object on which we are setting values always behaves as a copy.\n",
      "\n",
      "For example, when doing 'df[col].method(value, inplace=True)', try using 'df.method({col: value}, inplace=True)' or df[col] = df[col].method(value) instead, to perform the operation inplace on the original object.\n",
      "\n",
      "\n",
      "  data['Department'].fillna('Unknown', inplace=True)\n",
      "/var/folders/58/g_5xrc8j1zdckrn739h9xr2m0000gn/T/ipykernel_18446/3596481432.py:14: FutureWarning: A value is trying to be set on a copy of a DataFrame or Series through chained assignment using an inplace method.\n",
      "The behavior will change in pandas 3.0. This inplace method will never work because the intermediate object on which we are setting values always behaves as a copy.\n",
      "\n",
      "For example, when doing 'df[col].method(value, inplace=True)', try using 'df.method({col: value}, inplace=True)' or df[col] = df[col].method(value) instead, to perform the operation inplace on the original object.\n",
      "\n",
      "\n",
      "  data['Skill Name'].fillna('Unknown', inplace=True)\n"
     ]
    }
   ],
   "source": [
    "from sklearn.preprocessing import LabelEncoder\n",
    "import torch\n",
    "\n",
    "# Binary labels for violation detection\n",
    "labels = torch.tensor(data['Labels'].values)\n",
    "\n",
    "# Encode categorical features\n",
    "source_encoder = LabelEncoder()\n",
    "department_encoder = LabelEncoder()\n",
    "skill_name_encoder = LabelEncoder()\n",
    "\n",
    "data['Source'].fillna('Unknown', inplace=True)\n",
    "data['Department'].fillna('Unknown', inplace=True)\n",
    "data['Skill Name'].fillna('Unknown', inplace=True)\n",
    "\n",
    "source = torch.tensor(source_encoder.fit_transform(data['Source']))\n",
    "department = torch.tensor(department_encoder.fit_transform(data['Department']))\n",
    "skill_name = torch.tensor(skill_name_encoder.fit_transform(data['Skill Name']))\n"
   ]
  },
  {
   "cell_type": "code",
   "execution_count": 11,
   "metadata": {},
   "outputs": [],
   "source": [
    "from sklearn.model_selection import train_test_split\n",
    "\n",
    "# Split data into train and validation sets\n",
    "train_inputs, validation_inputs, train_labels, validation_labels = train_test_split(\n",
    "    encoded_data['input_ids'], labels, random_state=42, test_size=0.1)\n",
    "\n",
    "train_masks, validation_masks = train_test_split(\n",
    "    encoded_data['attention_mask'], random_state=42, test_size=0.1)\n",
    "\n",
    "train_source, validation_source, train_department, validation_department, train_skill_name, validation_skill_name = train_test_split(\n",
    "    source, department, skill_name, test_size=0.1, random_state=42)\n"
   ]
  },
  {
   "cell_type": "markdown",
   "metadata": {},
   "source": []
  },
  {
   "cell_type": "code",
   "execution_count": null,
   "metadata": {},
   "outputs": [],
   "source": []
  },
  {
   "cell_type": "markdown",
   "metadata": {},
   "source": [
    "Define the Multitask Model Architecture"
   ]
  },
  {
   "cell_type": "code",
   "execution_count": 12,
   "metadata": {},
   "outputs": [],
   "source": [
    "from transformers import BertModel\n",
    "import torch.nn as nn\n",
    "\n",
    "class MultitaskBERTModel(nn.Module):\n",
    "    def __init__(self, num_labels, num_sources, num_departments, num_skills):\n",
    "        super(MultitaskBERTModel, self).__init__()\n",
    "        self.bert = BertModel.from_pretrained('bert-base-uncased')\n",
    "        self.dropout = nn.Dropout(0.1)\n",
    "        self.classifier = nn.Linear(self.bert.config.hidden_size, num_labels)\n",
    "        self.source_classifier = nn.Linear(self.bert.config.hidden_size, num_sources)\n",
    "        self.department_classifier = nn.Linear(self.bert.config.hidden_size, num_departments)\n",
    "        self.skill_name_classifier = nn.Linear(self.bert.config.hidden_size, num_skills)\n",
    "        \n",
    "    def forward(self, input_ids, attention_mask):\n",
    "        outputs = self.bert(input_ids=input_ids, attention_mask=attention_mask)\n",
    "        pooled_output = self.dropout(outputs.pooler_output)\n",
    "        violation_logits = self.classifier(pooled_output)\n",
    "        source_logits = self.source_classifier(pooled_output)\n",
    "        department_logits = self.department_classifier(pooled_output)\n",
    "        skill_name_logits = self.skill_name_classifier(pooled_output)\n",
    "        return violation_logits, source_logits, department_logits, skill_name_logits\n"
   ]
  },
  {
   "cell_type": "markdown",
   "metadata": {},
   "source": [
    " Initialize the Model and Optimizer"
   ]
  },
  {
   "cell_type": "code",
   "execution_count": 13,
   "metadata": {},
   "outputs": [
    {
     "name": "stderr",
     "output_type": "stream",
     "text": [
      "/Users/chamodyaavishka/anaconda3/envs/NEW/lib/python3.12/site-packages/transformers/optimization.py:429: FutureWarning: This implementation of AdamW is deprecated and will be removed in a future version. Use the PyTorch implementation torch.optim.AdamW instead, or set `no_deprecation_warning=True` to disable this warning\n",
      "  warnings.warn(\n"
     ]
    }
   ],
   "source": [
    "from transformers import AdamW, get_linear_schedule_with_warmup\n",
    "from torch.utils.data import TensorDataset, DataLoader, RandomSampler, SequentialSampler\n",
    "\n",
    "epochs = 100\n",
    "\n",
    "device = torch.device(\"cuda\" if torch.cuda.is_available() else \"cpu\")\n",
    "\n",
    "model = MultitaskBERTModel(\n",
    "    num_labels=2,  # Binary classification for violation detection\n",
    "    num_sources=len(source_encoder.classes_),\n",
    "    num_departments=len(department_encoder.classes_),\n",
    "    num_skills=len(skill_name_encoder.classes_)\n",
    ")\n",
    "model.to(device)\n",
    "\n",
    "optimizer = AdamW(model.parameters(), lr=5e-5, eps=1e-8)\n",
    "\n",
    "# Convert the dataset to TensorDataset and create DataLoader\n",
    "train_dataset = TensorDataset(train_inputs, train_masks, train_labels, train_source, train_department, train_skill_name)\n",
    "train_dataloader = DataLoader(train_dataset, sampler=RandomSampler(train_dataset), batch_size=32)\n",
    "\n",
    "validation_dataset = TensorDataset(validation_inputs, validation_masks, validation_labels, validation_source, validation_department, validation_skill_name)\n",
    "validation_dataloader = DataLoader(validation_dataset, sampler=SequentialSampler(validation_dataset), batch_size=32)\n",
    "\n",
    "total_steps = len(train_dataloader) * epochs  # epochs is the number of training epochs you plan to run\n",
    "scheduler = get_linear_schedule_with_warmup(optimizer, num_warmup_steps=0, num_training_steps=total_steps)\n"
   ]
  },
  {
   "cell_type": "markdown",
   "metadata": {},
   "source": [
    " Training and Validation Loop"
   ]
  },
  {
   "cell_type": "code",
   "execution_count": 14,
   "metadata": {},
   "outputs": [
    {
     "name": "stdout",
     "output_type": "stream",
     "text": [
      "Epoch 1: Train loss: 8.415287673473358, Train accuracy: 0.4674479166666667, Validation Loss: 7.691330790519714, Validation Accuracy: 0.6153846153846154.\n",
      "Epoch 2: Train loss: 7.586068391799927, Train accuracy: 0.6067708333333334, Validation Loss: 6.832981884479523, Validation Accuracy: 0.6923076923076923.\n",
      "Epoch 3: Train loss: 6.865836143493652, Train accuracy: 0.66015625, Validation Loss: 6.1678803861141205, Validation Accuracy: 0.6923076923076923.\n",
      "Epoch 4: Train loss: 6.417481601238251, Train accuracy: 0.7135416666666666, Validation Loss: 5.661271616816521, Validation Accuracy: 0.7692307692307693.\n",
      "Epoch 5: Train loss: 5.734412908554077, Train accuracy: 0.7213541666666666, Validation Loss: 5.308958165347576, Validation Accuracy: 0.7692307692307693.\n",
      "Epoch 6: Train loss: 5.34120112657547, Train accuracy: 0.7526041666666666, Validation Loss: 4.9919348657131195, Validation Accuracy: 0.7307692307692307.\n",
      "Epoch 7: Train loss: 5.032673627138138, Train accuracy: 0.75390625, Validation Loss: 4.77631077170372, Validation Accuracy: 0.7307692307692307.\n",
      "Epoch 8: Train loss: 4.61561131477356, Train accuracy: 0.8033854166666666, Validation Loss: 4.704454660415649, Validation Accuracy: 0.7692307692307693.\n",
      "Epoch 9: Train loss: 4.434658885002136, Train accuracy: 0.8346354166666666, Validation Loss: 4.512586712837219, Validation Accuracy: 0.8076923076923077.\n",
      "Epoch 10: Train loss: 4.251839756965637, Train accuracy: 0.8619791666666666, Validation Loss: 4.587618038058281, Validation Accuracy: 0.8461538461538461.\n",
      "Epoch 11: Train loss: 3.9127034544944763, Train accuracy: 0.8450520833333334, Validation Loss: 4.621079608798027, Validation Accuracy: 0.7692307692307693.\n",
      "Epoch 12: Train loss: 3.96446231007576, Train accuracy: 0.9088541666666666, Validation Loss: 4.4240370243787766, Validation Accuracy: 0.8461538461538461.\n",
      "Epoch 13: Train loss: 3.659296154975891, Train accuracy: 0.9375, Validation Loss: 4.428827688097954, Validation Accuracy: 0.7307692307692307.\n",
      "Epoch 14: Train loss: 3.396150529384613, Train accuracy: 0.9453125, Validation Loss: 4.389522396028042, Validation Accuracy: 0.8076923076923077.\n",
      "Epoch 15: Train loss: 3.135901927947998, Train accuracy: 0.9440104166666666, Validation Loss: 4.318880818784237, Validation Accuracy: 0.8461538461538461.\n",
      "Epoch 16: Train loss: 3.014099955558777, Train accuracy: 0.984375, Validation Loss: 4.2880828231573105, Validation Accuracy: 0.8076923076923077.\n",
      "Epoch 17: Train loss: 2.834912121295929, Train accuracy: 0.9765625, Validation Loss: 4.379997611045837, Validation Accuracy: 0.8076923076923077.\n",
      "Epoch 18: Train loss: 2.7656858265399933, Train accuracy: 0.98828125, Validation Loss: 4.2258235812187195, Validation Accuracy: 0.8846153846153846.\n",
      "Epoch 19: Train loss: 2.6857908964157104, Train accuracy: 0.984375, Validation Loss: 4.156511455774307, Validation Accuracy: 0.7307692307692307.\n",
      "Epoch 20: Train loss: 2.6222748160362244, Train accuracy: 0.98828125, Validation Loss: 4.067487828433514, Validation Accuracy: 0.8076923076923077.\n",
      "Epoch 21: Train loss: 2.40726962685585, Train accuracy: 0.98828125, Validation Loss: 4.069605588912964, Validation Accuracy: 0.7692307692307693.\n",
      "Epoch 22: Train loss: 2.267633408308029, Train accuracy: 0.98828125, Validation Loss: 3.931130602955818, Validation Accuracy: 0.8461538461538461.\n",
      "Epoch 23: Train loss: 2.1016030311584473, Train accuracy: 0.984375, Validation Loss: 3.8995217829942703, Validation Accuracy: 0.8076923076923077.\n",
      "Epoch 24: Train loss: 1.9555454403162003, Train accuracy: 0.98828125, Validation Loss: 3.978389799594879, Validation Accuracy: 0.6923076923076923.\n",
      "Epoch 25: Train loss: 2.0677541345357895, Train accuracy: 0.984375, Validation Loss: 3.8702215626835823, Validation Accuracy: 0.8461538461538461.\n",
      "Epoch 26: Train loss: 1.8745602369308472, Train accuracy: 0.9713541666666666, Validation Loss: 3.820059224963188, Validation Accuracy: 0.8076923076923077.\n",
      "Epoch 27: Train loss: 1.7835495471954346, Train accuracy: 0.9921875, Validation Loss: 3.7501931861042976, Validation Accuracy: 0.7307692307692307.\n",
      "Epoch 28: Train loss: 1.7598543018102646, Train accuracy: 0.98828125, Validation Loss: 3.7118411362171173, Validation Accuracy: 0.8076923076923077.\n",
      "Epoch 29: Train loss: 1.6735514551401138, Train accuracy: 0.9921875, Validation Loss: 3.5842674523591995, Validation Accuracy: 0.7692307692307693.\n",
      "Epoch 30: Train loss: 1.5598519891500473, Train accuracy: 0.98828125, Validation Loss: 3.8582275062799454, Validation Accuracy: 0.7307692307692307.\n",
      "Epoch 31: Train loss: 1.6439274698495865, Train accuracy: 0.9921875, Validation Loss: 3.580555595457554, Validation Accuracy: 0.8076923076923077.\n",
      "Epoch 32: Train loss: 1.4774067848920822, Train accuracy: 0.98828125, Validation Loss: 3.6648207753896713, Validation Accuracy: 0.8076923076923077.\n",
      "Epoch 33: Train loss: 1.3878170400857925, Train accuracy: 0.984375, Validation Loss: 3.632467858493328, Validation Accuracy: 0.8076923076923077.\n",
      "Epoch 34: Train loss: 1.4074853509664536, Train accuracy: 0.98828125, Validation Loss: 3.685365192592144, Validation Accuracy: 0.8076923076923077.\n",
      "Epoch 35: Train loss: 1.2664733678102493, Train accuracy: 0.9921875, Validation Loss: 3.6292499601840973, Validation Accuracy: 0.8076923076923077.\n",
      "Epoch 36: Train loss: 1.2836944311857224, Train accuracy: 0.9921875, Validation Loss: 3.500258795917034, Validation Accuracy: 0.7692307692307693.\n",
      "Epoch 37: Train loss: 1.2283021360635757, Train accuracy: 0.98828125, Validation Loss: 3.5092363208532333, Validation Accuracy: 0.7692307692307693.\n",
      "Epoch 38: Train loss: 1.2421358302235603, Train accuracy: 0.9921875, Validation Loss: 3.6017766147851944, Validation Accuracy: 0.7692307692307693.\n",
      "Epoch 39: Train loss: 1.1460239589214325, Train accuracy: 0.99609375, Validation Loss: 3.4572886154055595, Validation Accuracy: 0.8461538461538461.\n",
      "Epoch 40: Train loss: 1.0664665922522545, Train accuracy: 0.98828125, Validation Loss: 3.4480011612176895, Validation Accuracy: 0.7307692307692307.\n",
      "Epoch 41: Train loss: 1.0909394919872284, Train accuracy: 0.98828125, Validation Loss: 3.4218152165412903, Validation Accuracy: 0.8461538461538461.\n",
      "Epoch 42: Train loss: 1.06178367882967, Train accuracy: 0.9921875, Validation Loss: 3.479155905544758, Validation Accuracy: 0.8076923076923077.\n",
      "Epoch 43: Train loss: 0.9776179119944572, Train accuracy: 0.98828125, Validation Loss: 3.448536068201065, Validation Accuracy: 0.8461538461538461.\n",
      "Epoch 44: Train loss: 0.9891079217195511, Train accuracy: 0.9921875, Validation Loss: 3.5255166441202164, Validation Accuracy: 0.7692307692307693.\n",
      "Epoch 45: Train loss: 0.9431069120764732, Train accuracy: 0.9921875, Validation Loss: 3.418406493961811, Validation Accuracy: 0.8461538461538461.\n",
      "Epoch 46: Train loss: 0.9852962419390678, Train accuracy: 0.98828125, Validation Loss: 3.412969760596752, Validation Accuracy: 0.7692307692307693.\n",
      "Epoch 47: Train loss: 0.8934042230248451, Train accuracy: 0.9921875, Validation Loss: 3.545582488179207, Validation Accuracy: 0.8846153846153846.\n",
      "Epoch 48: Train loss: 0.9068978503346443, Train accuracy: 0.9713541666666666, Validation Loss: 3.3900672495365143, Validation Accuracy: 0.7692307692307693.\n",
      "Epoch 49: Train loss: 0.8248639330267906, Train accuracy: 0.98828125, Validation Loss: 3.306817591190338, Validation Accuracy: 0.8461538461538461.\n",
      "Epoch 50: Train loss: 0.8028994500637054, Train accuracy: 0.99609375, Validation Loss: 3.258035697042942, Validation Accuracy: 0.7307692307692307.\n",
      "Epoch 51: Train loss: 0.7790429070591927, Train accuracy: 0.98828125, Validation Loss: 3.272801175713539, Validation Accuracy: 0.8461538461538461.\n",
      "Epoch 52: Train loss: 0.7983732223510742, Train accuracy: 0.99609375, Validation Loss: 3.2751598432660103, Validation Accuracy: 0.7692307692307693.\n",
      "Epoch 53: Train loss: 0.7599970772862434, Train accuracy: 0.98828125, Validation Loss: 3.394653707742691, Validation Accuracy: 0.8461538461538461.\n",
      "Epoch 54: Train loss: 0.724716741591692, Train accuracy: 0.98828125, Validation Loss: 3.3409527242183685, Validation Accuracy: 0.8076923076923077.\n",
      "Epoch 55: Train loss: 0.7680767327547073, Train accuracy: 0.98828125, Validation Loss: 3.381484754383564, Validation Accuracy: 0.8461538461538461.\n",
      "Epoch 56: Train loss: 0.6896538138389587, Train accuracy: 0.98828125, Validation Loss: 3.293907180428505, Validation Accuracy: 0.7307692307692307.\n",
      "Epoch 57: Train loss: 0.6453670915216208, Train accuracy: 0.98828125, Validation Loss: 3.2226863652467728, Validation Accuracy: 0.7307692307692307.\n",
      "Epoch 58: Train loss: 0.6708626598119736, Train accuracy: 0.9921875, Validation Loss: 3.3282401636242867, Validation Accuracy: 0.8461538461538461.\n",
      "Epoch 59: Train loss: 0.6276985071599483, Train accuracy: 0.98828125, Validation Loss: 3.2922928854823112, Validation Accuracy: 0.8076923076923077.\n",
      "Epoch 60: Train loss: 0.6414312571287155, Train accuracy: 0.98828125, Validation Loss: 3.2134216353297234, Validation Accuracy: 0.8076923076923077.\n",
      "Epoch 61: Train loss: 0.6159313321113586, Train accuracy: 0.98828125, Validation Loss: 3.2566192969679832, Validation Accuracy: 0.7307692307692307.\n",
      "Epoch 62: Train loss: 0.5980549454689026, Train accuracy: 0.9921875, Validation Loss: 3.2644322365522385, Validation Accuracy: 0.8076923076923077.\n",
      "Epoch 63: Train loss: 0.5766372829675674, Train accuracy: 0.99609375, Validation Loss: 3.27956223487854, Validation Accuracy: 0.8461538461538461.\n",
      "Epoch 64: Train loss: 0.5783086679875851, Train accuracy: 0.98828125, Validation Loss: 3.334568090736866, Validation Accuracy: 0.7692307692307693.\n",
      "Epoch 65: Train loss: 0.6071302220225334, Train accuracy: 0.984375, Validation Loss: 3.2390962913632393, Validation Accuracy: 0.7692307692307693.\n",
      "Epoch 66: Train loss: 0.5959109365940094, Train accuracy: 0.98828125, Validation Loss: 3.3227349892258644, Validation Accuracy: 0.7307692307692307.\n",
      "Epoch 67: Train loss: 0.568962637335062, Train accuracy: 0.9921875, Validation Loss: 3.3987302780151367, Validation Accuracy: 0.7307692307692307.\n",
      "Epoch 68: Train loss: 0.5534795187413692, Train accuracy: 0.984375, Validation Loss: 3.2669886648654938, Validation Accuracy: 0.8076923076923077.\n",
      "Epoch 69: Train loss: 0.5468427874147892, Train accuracy: 0.9921875, Validation Loss: 3.2547499388456345, Validation Accuracy: 0.8461538461538461.\n",
      "Epoch 70: Train loss: 0.5020431764423847, Train accuracy: 0.99609375, Validation Loss: 3.289575010538101, Validation Accuracy: 0.7692307692307693.\n",
      "Epoch 71: Train loss: 0.4938808046281338, Train accuracy: 0.98828125, Validation Loss: 3.3427850902080536, Validation Accuracy: 0.8076923076923077.\n",
      "Epoch 72: Train loss: 0.51063022762537, Train accuracy: 0.9921875, Validation Loss: 3.294241778552532, Validation Accuracy: 0.8076923076923077.\n",
      "Epoch 73: Train loss: 0.49359000474214554, Train accuracy: 0.99609375, Validation Loss: 3.287028044462204, Validation Accuracy: 0.8076923076923077.\n",
      "Epoch 74: Train loss: 0.5334197469055653, Train accuracy: 0.9921875, Validation Loss: 3.327939659357071, Validation Accuracy: 0.8461538461538461.\n",
      "Epoch 75: Train loss: 0.5071956440806389, Train accuracy: 0.98828125, Validation Loss: 3.350245125591755, Validation Accuracy: 0.8461538461538461.\n",
      "Epoch 76: Train loss: 0.49290507286787033, Train accuracy: 0.9921875, Validation Loss: 3.362643077969551, Validation Accuracy: 0.8076923076923077.\n",
      "Epoch 77: Train loss: 0.481616348028183, Train accuracy: 0.9921875, Validation Loss: 3.305448979139328, Validation Accuracy: 0.8076923076923077.\n",
      "Epoch 78: Train loss: 0.46882694587111473, Train accuracy: 0.98828125, Validation Loss: 3.312519870698452, Validation Accuracy: 0.8461538461538461.\n",
      "Epoch 79: Train loss: 0.4580789729952812, Train accuracy: 0.9921875, Validation Loss: 3.375177912414074, Validation Accuracy: 0.7692307692307693.\n",
      "Epoch 80: Train loss: 0.4495924487709999, Train accuracy: 0.984375, Validation Loss: 3.3795615434646606, Validation Accuracy: 0.7692307692307693.\n",
      "Epoch 81: Train loss: 0.5200175344944, Train accuracy: 0.9713541666666666, Validation Loss: 3.3864767253398895, Validation Accuracy: 0.8076923076923077.\n",
      "Epoch 82: Train loss: 0.4575681649148464, Train accuracy: 0.9921875, Validation Loss: 3.3455245420336723, Validation Accuracy: 0.8461538461538461.\n",
      "Epoch 83: Train loss: 0.46634288132190704, Train accuracy: 0.99609375, Validation Loss: 3.298891358077526, Validation Accuracy: 0.8076923076923077.\n",
      "Epoch 84: Train loss: 0.45075099915266037, Train accuracy: 0.9921875, Validation Loss: 3.297068551182747, Validation Accuracy: 0.8076923076923077.\n",
      "Epoch 85: Train loss: 0.466149166226387, Train accuracy: 0.99609375, Validation Loss: 3.3165420219302177, Validation Accuracy: 0.8076923076923077.\n",
      "Epoch 86: Train loss: 0.4396008923649788, Train accuracy: 0.99609375, Validation Loss: 3.3252531737089157, Validation Accuracy: 0.8076923076923077.\n",
      "Epoch 87: Train loss: 0.4563610777258873, Train accuracy: 0.9791666666666666, Validation Loss: 3.3455643355846405, Validation Accuracy: 0.8076923076923077.\n",
      "Epoch 88: Train loss: 0.4400269091129303, Train accuracy: 0.98828125, Validation Loss: 3.333546094596386, Validation Accuracy: 0.8076923076923077.\n",
      "Epoch 89: Train loss: 0.43749670311808586, Train accuracy: 0.99609375, Validation Loss: 3.3561090528964996, Validation Accuracy: 0.8076923076923077.\n",
      "Epoch 90: Train loss: 0.4174266643822193, Train accuracy: 0.9921875, Validation Loss: 3.3632714450359344, Validation Accuracy: 0.8076923076923077.\n",
      "Epoch 91: Train loss: 0.45351771265268326, Train accuracy: 0.99609375, Validation Loss: 3.353053539991379, Validation Accuracy: 0.8076923076923077.\n",
      "Epoch 92: Train loss: 0.42741234600543976, Train accuracy: 0.98828125, Validation Loss: 3.3314538300037384, Validation Accuracy: 0.8076923076923077.\n",
      "Epoch 93: Train loss: 0.4235563799738884, Train accuracy: 0.98828125, Validation Loss: 3.3042666763067245, Validation Accuracy: 0.8076923076923077.\n",
      "Epoch 94: Train loss: 0.42214906588196754, Train accuracy: 0.9921875, Validation Loss: 3.3151433765888214, Validation Accuracy: 0.8076923076923077.\n",
      "Epoch 95: Train loss: 0.4123256206512451, Train accuracy: 0.9921875, Validation Loss: 3.3204649835824966, Validation Accuracy: 0.8076923076923077.\n",
      "Epoch 96: Train loss: 0.4321705512702465, Train accuracy: 0.99609375, Validation Loss: 3.3289740160107613, Validation Accuracy: 0.8076923076923077.\n",
      "Epoch 97: Train loss: 0.4135844185948372, Train accuracy: 0.99609375, Validation Loss: 3.328018680214882, Validation Accuracy: 0.8076923076923077.\n",
      "Epoch 98: Train loss: 0.4526546411216259, Train accuracy: 0.9674479166666666, Validation Loss: 3.323086202144623, Validation Accuracy: 0.8076923076923077.\n",
      "Epoch 99: Train loss: 0.4108005352318287, Train accuracy: 0.984375, Validation Loss: 3.3228124231100082, Validation Accuracy: 0.8076923076923077.\n",
      "Epoch 100: Train loss: 0.3968911524862051, Train accuracy: 0.98828125, Validation Loss: 3.323369614779949, Validation Accuracy: 0.8076923076923077.\n"
     ]
    }
   ],
   "source": [
    "import numpy as np\n",
    "import torch\n",
    "from sklearn.metrics import accuracy_score\n",
    "\n",
    "def flat_accuracy(preds, labels):\n",
    "    pred_flat = np.argmax(preds, axis=1).flatten()\n",
    "    labels_flat = labels.flatten()\n",
    "    return np.mean(pred_flat == labels_flat)\n",
    "\n",
    "epochs = 100  # Define the number of epochs\n",
    "loss_values, validation_loss_values = [], []\n",
    "accuracy_values, validation_accuracy_values = [], []  # Corrected line\n",
    "\n",
    "for epoch_i in range(epochs):\n",
    "    model.train()\n",
    "    total_loss = 0\n",
    "    total_accuracy = 0  # Initialize total accuracy for the training phase\n",
    "    \n",
    "    # Training phase\n",
    "    for step, batch in enumerate(train_dataloader):\n",
    "        batch = tuple(t.to(device) for t in batch)\n",
    "        b_input_ids, b_input_mask, b_labels, b_source, b_department, b_skill_name = batch\n",
    "        model.zero_grad()\n",
    "        outputs = model(b_input_ids, attention_mask=b_input_mask)\n",
    "        \n",
    "        loss = sum([nn.CrossEntropyLoss()(output, target) for output, target in zip(outputs, [b_labels, b_source, b_department, b_skill_name])])\n",
    "        total_loss += loss.item()\n",
    "        \n",
    "        # Assuming the first output corresponds to the main task (e.g., violation detection)\n",
    "        logits = outputs[0].detach().cpu().numpy()\n",
    "        label_ids = b_labels.to('cpu').numpy()\n",
    "        total_accuracy += flat_accuracy(logits, label_ids)\n",
    "        \n",
    "        loss.backward()\n",
    "        torch.nn.utils.clip_grad_norm_(model.parameters(), 1.0)\n",
    "        optimizer.step()\n",
    "        scheduler.step()\n",
    "    \n",
    "    avg_train_loss = total_loss / len(train_dataloader)\n",
    "    avg_train_accuracy = total_accuracy / len(train_dataloader)\n",
    "    loss_values.append(avg_train_loss)\n",
    "    accuracy_values.append(avg_train_accuracy)\n",
    "    \n",
    "    # Validation phase\n",
    "    model.eval()\n",
    "    eval_loss = 0\n",
    "    eval_accuracy = 0\n",
    "    for batch in validation_dataloader:\n",
    "        batch = tuple(t.to(device) for t in batch)\n",
    "        b_input_ids, b_input_mask, b_labels, b_source, b_department, b_skill_name = batch\n",
    "        with torch.no_grad():\n",
    "            outputs = model(b_input_ids, attention_mask=b_input_mask)\n",
    "        \n",
    "        logits = outputs[0].detach().cpu().numpy()\n",
    "        label_ids = b_labels.to('cpu').numpy()\n",
    "        eval_loss += sum([nn.CrossEntropyLoss()(output, target).item() for output, target in zip(outputs, [b_labels, b_source, b_department, b_skill_name])])\n",
    "        eval_accuracy += flat_accuracy(logits, label_ids)\n",
    "    \n",
    "    avg_val_loss = eval_loss / len(validation_dataloader)\n",
    "    avg_val_accuracy = eval_accuracy / len(validation_dataloader)\n",
    "    validation_loss_values.append(avg_val_loss)\n",
    "    validation_accuracy_values.append(avg_val_accuracy)\n",
    "    \n",
    "    print(f\"Epoch {epoch_i + 1}: Train loss: {avg_train_loss}, Train accuracy: {avg_train_accuracy}, Validation Loss: {avg_val_loss}, Validation Accuracy: {avg_val_accuracy}.\")\n",
    "\n"
   ]
  },
  {
   "cell_type": "markdown",
   "metadata": {},
   "source": [
    "Train the Model"
   ]
  },
  {
   "cell_type": "code",
   "execution_count": 15,
   "metadata": {},
   "outputs": [
    {
     "data": {
      "image/png": "[encoded data removed]",
      "text/plain": [
       "<Figure size 1200x600 with 2 Axes>"
      ]
     },
     "metadata": {},
     "output_type": "display_data"
    }
   ],
   "source": [
    "import matplotlib.pyplot as plt\n",
    "\n",
    "plt.figure(figsize=(12, 6))\n",
    "\n",
    "# Plot training and validation loss\n",
    "plt.subplot(1, 2, 1)\n",
    "plt.plot(loss_values, 'b-o', label=\"Training loss\")\n",
    "plt.plot(validation_loss_values, 'r-o', label=\"Validation loss\")\n",
    "plt.title(\"Training & Validation Loss\")\n",
    "plt.xlabel(\"Epochs\")\n",
    "plt.ylabel(\"Loss\")\n",
    "plt.legend()\n",
    "\n",
    "# Plot training and validation accuracy\n",
    "plt.subplot(1, 2, 2)\n",
    "plt.plot(accuracy_values, 'b-o', label=\"Training Accuracy\")\n",
    "plt.plot(validation_accuracy_values, 'r-o', label=\"Validation Accuracy\")\n",
    "plt.title(\"Training & Validation Accuracy\")\n",
    "plt.xlabel(\"Epochs\")\n",
    "plt.ylabel(\"Accuracy\")\n",
    "plt.legend()\n",
    "\n",
    "plt.tight_layout()\n",
    "plt.show()\n"
   ]
  },
  {
   "cell_type": "markdown",
   "metadata": {},
   "source": [
    "Inference with the Trained Model"
   ]
  },
  {
   "cell_type": "code",
   "execution_count": 16,
   "metadata": {},
   "outputs": [
    {
     "name": "stdout",
     "output_type": "stream",
     "text": [
      "{'violation': False, 'source': 'Alexa Skill', 'department': 'Connected Car', 'skill_name': 'Labs Flash Briefing'}\n"
     ]
    }
   ],
   "source": [
    "def predict(model, tokenizer, utterance, source_encoder, department_encoder, skill_name_encoder):\n",
    "    model.eval()  # Ensure the model is in evaluation mode\n",
    "    \n",
    "    # Tokenize and encode the utterance\n",
    "    inputs = tokenizer(utterance, return_tensors=\"pt\", padding=True, truncation=True, max_length=128)\n",
    "    input_ids = inputs['input_ids'].to(device)\n",
    "    attention_mask = inputs['attention_mask'].to(device)\n",
    "    \n",
    "    # Perform inference\n",
    "    with torch.no_grad():\n",
    "        outputs = model(input_ids, attention_mask)\n",
    "    \n",
    "    # Decode the predictions\n",
    "    violation_pred = torch.argmax(outputs[0], dim=1).cpu().numpy()[0]\n",
    "    source_pred = source_encoder.inverse_transform([torch.argmax(outputs[1], dim=1).cpu().numpy()[0]])[0]\n",
    "    department_pred = department_encoder.inverse_transform([torch.argmax(outputs[2], dim=1).cpu().numpy()[0]])[0]\n",
    "    skill_name_pred = skill_name_encoder.inverse_transform([torch.argmax(outputs[3], dim=1).cpu().numpy()[0]])[0]\n",
    "    \n",
    "    return {\n",
    "        \"violation\": bool(violation_pred),\n",
    "        \"source\": source_pred,\n",
    "        \"department\": department_pred,\n",
    "        \"skill_name\": skill_name_pred\n",
    "    }\n",
    "\n",
    "# Example usage\n",
    "utterance = \"Alexa, what's my Flash Briefing?\"\n",
    "predictions = predict(model, tokenizer, utterance, source_encoder, department_encoder, skill_name_encoder)\n",
    "print(predictions)\n"
   ]
  },
  {
   "cell_type": "markdown",
   "metadata": {},
   "source": [
    "Save the Model and Tokenizer"
   ]
  },
  {
   "cell_type": "code",
   "execution_count": 34,
   "metadata": {},
   "outputs": [
    {
     "data": {
      "text/plain": [
       "('/Users/chamodyaavishka/Desktop/NEW/modelapril/tokenizer_config.json',\n",
       " '/Users/chamodyaavishka/Desktop/NEW/modelapril/special_tokens_map.json',\n",
       " '/Users/chamodyaavishka/Desktop/NEW/modelapril/vocab.txt',\n",
       " '/Users/chamodyaavishka/Desktop/NEW/modelapril/added_tokens.json')"
      ]
     },
     "execution_count": 34,
     "metadata": {},
     "output_type": "execute_result"
    }
   ],
   "source": [
    "import os\n",
    "import torch\n",
    "\n",
    "# Define the path where you want to save the model and tokenizer\n",
    "save_path = \"/Users/chamodyaavishka/Desktop/NEW/modelapril\"\n",
    "\n",
    "# Ensure the save path exists\n",
    "os.makedirs(save_path, exist_ok=True)\n",
    "\n",
    "# Save the model state dictionary\n",
    "model_save_path = os.path.join(save_path, \"pytorch_model.bin\")\n",
    "torch.save(model.state_dict(), model_save_path)\n",
    "\n",
    "# Save the tokenizer\n",
    "tokenizer_save_path = save_path  # Tokenizer can be saved using save_pretrained directly\n",
    "tokenizer.save_pretrained(tokenizer_save_path)\n"
   ]
  },
  {
   "cell_type": "code",
   "execution_count": 35,
   "metadata": {},
   "outputs": [
    {
     "data": {
      "text/plain": [
       "['/Users/chamodyaavishka/Desktop/NEW/modelapril/skill_name_encoder.joblib']"
      ]
     },
     "execution_count": 35,
     "metadata": {},
     "output_type": "execute_result"
    }
   ],
   "source": [
    "import joblib\n",
    "\n",
    "# Save the encoders\n",
    "joblib.dump(source_encoder, os.path.join(save_path, \"source_encoder.joblib\"))\n",
    "joblib.dump(department_encoder, os.path.join(save_path, \"department_encoder.joblib\"))\n",
    "joblib.dump(skill_name_encoder, os.path.join(save_path, \"skill_name_encoder.joblib\"))\n"
   ]
  },
  {
   "cell_type": "code",
   "execution_count": 44,
   "metadata": {},
   "outputs": [
    {
     "ename": "RuntimeError",
     "evalue": "File /Users/chamodyaavishka/Desktop/NEW/ap2 cannot be opened.",
     "output_type": "error",
     "traceback": [
      "\u001b[0;31m---------------------------------------------------------------------------\u001b[0m",
      "\u001b[0;31mRuntimeError\u001b[0m                              Traceback (most recent call last)",
      "Cell \u001b[0;32mIn[44], line 2\u001b[0m\n\u001b[1;32m      1\u001b[0m model_save_path \u001b[38;5;241m=\u001b[39m \u001b[38;5;124m'\u001b[39m\u001b[38;5;124m/Users/chamodyaavishka/Desktop/NEW/ap2\u001b[39m\u001b[38;5;124m'\u001b[39m\n\u001b[0;32m----> 2\u001b[0m \u001b[43mtorch\u001b[49m\u001b[38;5;241;43m.\u001b[39;49m\u001b[43msave\u001b[49m\u001b[43m(\u001b[49m\u001b[43mmodel\u001b[49m\u001b[38;5;241;43m.\u001b[39;49m\u001b[43mstate_dict\u001b[49m\u001b[43m(\u001b[49m\u001b[43m)\u001b[49m\u001b[43m,\u001b[49m\u001b[43m \u001b[49m\u001b[43mmodel_save_path\u001b[49m\u001b[43m)\u001b[49m\n",
      "File \u001b[0;32m~/anaconda3/envs/NEW/lib/python3.12/site-packages/torch/serialization.py:628\u001b[0m, in \u001b[0;36msave\u001b[0;34m(obj, f, pickle_module, pickle_protocol, _use_new_zipfile_serialization, _disable_byteorder_record)\u001b[0m\n\u001b[1;32m    625\u001b[0m _check_save_filelike(f)\n\u001b[1;32m    627\u001b[0m \u001b[38;5;28;01mif\u001b[39;00m _use_new_zipfile_serialization:\n\u001b[0;32m--> 628\u001b[0m     \u001b[38;5;28;01mwith\u001b[39;00m \u001b[43m_open_zipfile_writer\u001b[49m\u001b[43m(\u001b[49m\u001b[43mf\u001b[49m\u001b[43m)\u001b[49m \u001b[38;5;28;01mas\u001b[39;00m opened_zipfile:\n\u001b[1;32m    629\u001b[0m         _save(obj, opened_zipfile, pickle_module, pickle_protocol, _disable_byteorder_record)\n\u001b[1;32m    630\u001b[0m         \u001b[38;5;28;01mreturn\u001b[39;00m\n",
      "File \u001b[0;32m~/anaconda3/envs/NEW/lib/python3.12/site-packages/torch/serialization.py:502\u001b[0m, in \u001b[0;36m_open_zipfile_writer\u001b[0;34m(name_or_buffer)\u001b[0m\n\u001b[1;32m    500\u001b[0m \u001b[38;5;28;01melse\u001b[39;00m:\n\u001b[1;32m    501\u001b[0m     container \u001b[38;5;241m=\u001b[39m _open_zipfile_writer_buffer\n\u001b[0;32m--> 502\u001b[0m \u001b[38;5;28;01mreturn\u001b[39;00m \u001b[43mcontainer\u001b[49m\u001b[43m(\u001b[49m\u001b[43mname_or_buffer\u001b[49m\u001b[43m)\u001b[49m\n",
      "File \u001b[0;32m~/anaconda3/envs/NEW/lib/python3.12/site-packages/torch/serialization.py:473\u001b[0m, in \u001b[0;36m_open_zipfile_writer_file.__init__\u001b[0;34m(self, name)\u001b[0m\n\u001b[1;32m    471\u001b[0m     \u001b[38;5;28msuper\u001b[39m()\u001b[38;5;241m.\u001b[39m\u001b[38;5;21m__init__\u001b[39m(torch\u001b[38;5;241m.\u001b[39m_C\u001b[38;5;241m.\u001b[39mPyTorchFileWriter(\u001b[38;5;28mself\u001b[39m\u001b[38;5;241m.\u001b[39mfile_stream))\n\u001b[1;32m    472\u001b[0m \u001b[38;5;28;01melse\u001b[39;00m:\n\u001b[0;32m--> 473\u001b[0m     \u001b[38;5;28msuper\u001b[39m()\u001b[38;5;241m.\u001b[39m\u001b[38;5;21m__init__\u001b[39m(\u001b[43mtorch\u001b[49m\u001b[38;5;241;43m.\u001b[39;49m\u001b[43m_C\u001b[49m\u001b[38;5;241;43m.\u001b[39;49m\u001b[43mPyTorchFileWriter\u001b[49m\u001b[43m(\u001b[49m\u001b[38;5;28;43mself\u001b[39;49m\u001b[38;5;241;43m.\u001b[39;49m\u001b[43mname\u001b[49m\u001b[43m)\u001b[49m)\n",
      "\u001b[0;31mRuntimeError\u001b[0m: File /Users/chamodyaavishka/Desktop/NEW/ap2 cannot be opened."
     ]
    }
   ],
   "source": [
    "model_save_path = '/Users/chamodyaavishka/Desktop/NEW/ap2'\n",
    "torch.save(model.state_dict(), model_save_path)\n"
   ]
  },
  {
   "cell_type": "code",
   "execution_count": 39,
   "metadata": {},
   "outputs": [
    {
     "ename": "TypeError",
     "evalue": "MultitaskBERTModel.__init__() missing 1 required positional argument: 'num_skills'",
     "output_type": "error",
     "traceback": [
      "\u001b[0;31m---------------------------------------------------------------------------\u001b[0m",
      "\u001b[0;31mTypeError\u001b[0m                                 Traceback (most recent call last)",
      "Cell \u001b[0;32mIn[39], line 11\u001b[0m\n\u001b[1;32m      8\u001b[0m tokenizer \u001b[38;5;241m=\u001b[39m BertTokenizer\u001b[38;5;241m.\u001b[39mfrom_pretrained(tokenizer_save_path)\n\u001b[1;32m     10\u001b[0m \u001b[38;5;66;03m# Initialize the model and load the state dictionary\u001b[39;00m\n\u001b[0;32m---> 11\u001b[0m model \u001b[38;5;241m=\u001b[39m \u001b[43mMultitaskBERTModel\u001b[49m\u001b[43m(\u001b[49m\u001b[38;5;241;43m.\u001b[39;49m\u001b[38;5;241;43m.\u001b[39;49m\u001b[38;5;241;43m.\u001b[39;49m\u001b[43m)\u001b[49m  \u001b[38;5;66;03m# You need to specify the correct arguments for your model initialization\u001b[39;00m\n\u001b[1;32m     12\u001b[0m model_state_dict \u001b[38;5;241m=\u001b[39m torch\u001b[38;5;241m.\u001b[39mload(model_save_path)\n\u001b[1;32m     13\u001b[0m model\u001b[38;5;241m.\u001b[39mload_state_dict(model_state_dict)\n",
      "\u001b[0;31mTypeError\u001b[0m: MultitaskBERTModel.__init__() missing 1 required positional argument: 'num_skills'"
     ]
    }
   ],
   "source": [
    "from transformers import BertTokenizer\n",
    "from multi_task_bert_model import MultitaskBERTModel\n",
    "  # Ensure to import your model class\n",
    "import torch\n",
    "import joblib\n",
    "\n",
    "# Load the tokenizer\n",
    "tokenizer = BertTokenizer.from_pretrained(tokenizer_save_path)\n",
    "\n",
    "# Initialize the model and load the state dictionary\n",
    "model = MultitaskBERTModel(...)  # You need to specify the correct arguments for your model initialization\n",
    "model_state_dict = torch.load(model_save_path)\n",
    "model.load_state_dict(model_state_dict)\n",
    "model.eval()  # Set the model to evaluation mode\n",
    "\n",
    "# Load the label encoders\n",
    "source_encoder = joblib.load(os.path.join(save_path, \"source_encoder.joblib\"))\n",
    "department_encoder = joblib.load(os.path.join(save_path, \"department_encoder.joblib\"))\n",
    "skill_name_encoder = joblib.load(os.path.join(save_path, \"skill_name_encoder.joblib\"))\n"
   ]
  },
  {
   "cell_type": "markdown",
   "metadata": {},
   "source": [
    "Load the Model, Tokenizer, and Label Encoders for Future Use"
   ]
  },
  {
   "cell_type": "code",
   "execution_count": null,
   "metadata": {},
   "outputs": [],
   "source": [
    "from transformers import BertModel, BertTokenizer\n",
    "import joblib\n",
    "\n",
    "# Load the model\n",
    "model = BertModel.from_pretrained(\"/Users/chamodyaavishka/Desktop/NEW/modelapril\")\n",
    "\n",
    "# Load the tokenizer\n",
    "tokenizer = BertTokenizer.from_pretrained(\"/Users/chamodyaavishka/Desktop/NEW/modelapril\")\n",
    "\n",
    "# Load the label encoders\n",
    "source_encoder = joblib.load(f\"{label_encoders_path}/source_encoder.joblib\")\n",
    "department_encoder = joblib.load(f\"{label_encoders_path}/department_encoder.joblib\")\n",
    "skill_name_encoder = joblib.load(f\"{label_encoders_path}/skill_name_encoder.joblib\")\n"
   ]
  }
 ],
 "metadata": {
  "kernelspec": {
   "display_name": "NEW",
   "language": "python",
   "name": "python3"
  },
  "language_info": {
   "codemirror_mode": {
    "name": "ipython",
    "version": 3
   },
   "file_extension": ".py",
   "mimetype": "text/x-python",
   "name": "python",
   "nbconvert_exporter": "python",
   "pygments_lexer": "ipython3",
   "version": "3.12.2"
  }
 },
 "nbformat": 4,
 "nbformat_minor": 2
}
